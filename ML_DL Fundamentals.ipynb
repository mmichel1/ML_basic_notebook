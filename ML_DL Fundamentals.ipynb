{
 "cells": [
  {
   "cell_type": "code",
   "execution_count": 5,
   "metadata": {},
   "outputs": [],
   "source": [
    "# Libraries and classes to create model\n",
    "import keras\n",
    "from keras import backend as K\n",
    "from keras.models import Sequential\n",
    "from keras.layers import Activation\n",
    "from keras.layers.core import Dense\n",
    "from keras.optimizers import Adam\n",
    "from keras.metrics import categorical_crossentropy\n",
    "\n",
    "import tensorflow as tf\n",
    "import sys\n",
    "import sklearn as sk\n",
    "import pandas as pd\n",
    "import numpy as np"
   ]
  },
  {
   "cell_type": "code",
   "execution_count": 6,
   "metadata": {},
   "outputs": [
    {
     "name": "stdout",
     "output_type": "stream",
     "text": [
      "(3006, 44)\n"
     ]
    }
   ],
   "source": [
    "# read data from file as dataframe\n",
    "df = pd.read_csv(\"./data/clean_4_modeling_with_dummies.csv\",\n",
    "   delimiter=\",\")\n",
    "\n",
    "# array for column selection of features 0, 3 bis 9, 12 - 47\n",
    "col_select=np.concatenate(([0], np.arange(3, 10), np.arange(12, 48)))\n",
    "\n",
    "# select features from dataframe\n",
    "nn_df = df.iloc[:, col_select]\n",
    "print(nn_df.shape)\n",
    "\n",
    "# select label vector\n",
    "train_labels = df.FinWon_Status"
   ]
  },
  {
   "cell_type": "code",
   "execution_count": 7,
   "metadata": {},
   "outputs": [
    {
     "data": {
      "text/html": [
       "<div>\n",
       "<style>\n",
       "    .dataframe thead tr:only-child th {\n",
       "        text-align: right;\n",
       "    }\n",
       "\n",
       "    .dataframe thead th {\n",
       "        text-align: left;\n",
       "    }\n",
       "\n",
       "    .dataframe tbody tr th {\n",
       "        vertical-align: top;\n",
       "    }\n",
       "</style>\n",
       "<table border=\"1\" class=\"dataframe\">\n",
       "  <thead>\n",
       "    <tr style=\"text-align: right;\">\n",
       "      <th></th>\n",
       "      <th>FinOE</th>\n",
       "      <th>FinDelStart</th>\n",
       "      <th>DelStart</th>\n",
       "      <th>Probability</th>\n",
       "      <th>ProjMargin</th>\n",
       "      <th>OE</th>\n",
       "      <th>ChangeRec</th>\n",
       "      <th>Teamfill</th>\n",
       "      <th>Time_bef_Purs</th>\n",
       "      <th>TCV_SD_bef_Purs</th>\n",
       "      <th>...</th>\n",
       "      <th>Medium_Prio</th>\n",
       "      <th>High_Prio</th>\n",
       "      <th>FrameAgreement</th>\n",
       "      <th>SW_Platform</th>\n",
       "      <th>BidMgrInPurs</th>\n",
       "      <th>Frequ_Sales</th>\n",
       "      <th>SolMgrInPurs</th>\n",
       "      <th>DelMgrInPurs</th>\n",
       "      <th>less2perc_BidBudPerc</th>\n",
       "      <th>more2perc_BidBudPerc</th>\n",
       "    </tr>\n",
       "  </thead>\n",
       "  <tbody>\n",
       "    <tr>\n",
       "      <th>0</th>\n",
       "      <td>7.824046</td>\n",
       "      <td>2016-10-01</td>\n",
       "      <td>2016-07-01</td>\n",
       "      <td>10</td>\n",
       "      <td>28.0</td>\n",
       "      <td>8.517193</td>\n",
       "      <td>0</td>\n",
       "      <td>0.75</td>\n",
       "      <td>4.077537</td>\n",
       "      <td>0.0</td>\n",
       "      <td>...</td>\n",
       "      <td>0</td>\n",
       "      <td>0</td>\n",
       "      <td>0</td>\n",
       "      <td>0</td>\n",
       "      <td>1</td>\n",
       "      <td>0</td>\n",
       "      <td>0</td>\n",
       "      <td>1</td>\n",
       "      <td>0</td>\n",
       "      <td>0</td>\n",
       "    </tr>\n",
       "    <tr>\n",
       "      <th>1</th>\n",
       "      <td>6.466145</td>\n",
       "      <td>2015-04-01</td>\n",
       "      <td>2015-04-01</td>\n",
       "      <td>0</td>\n",
       "      <td>40.0</td>\n",
       "      <td>6.523562</td>\n",
       "      <td>1</td>\n",
       "      <td>0.75</td>\n",
       "      <td>1.098612</td>\n",
       "      <td>0.0</td>\n",
       "      <td>...</td>\n",
       "      <td>0</td>\n",
       "      <td>0</td>\n",
       "      <td>0</td>\n",
       "      <td>0</td>\n",
       "      <td>1</td>\n",
       "      <td>0</td>\n",
       "      <td>1</td>\n",
       "      <td>0</td>\n",
       "      <td>0</td>\n",
       "      <td>0</td>\n",
       "    </tr>\n",
       "  </tbody>\n",
       "</table>\n",
       "<p>2 rows × 48 columns</p>\n",
       "</div>"
      ],
      "text/plain": [
       "      FinOE FinDelStart    DelStart  Probability  ProjMargin        OE  \\\n",
       "0  7.824046  2016-10-01  2016-07-01           10        28.0  8.517193   \n",
       "1  6.466145  2015-04-01  2015-04-01            0        40.0  6.523562   \n",
       "\n",
       "   ChangeRec  Teamfill  Time_bef_Purs  TCV_SD_bef_Purs          ...           \\\n",
       "0          0      0.75       4.077537              0.0          ...            \n",
       "1          1      0.75       1.098612              0.0          ...            \n",
       "\n",
       "   Medium_Prio  High_Prio  FrameAgreement  SW_Platform  BidMgrInPurs  \\\n",
       "0            0          0               0            0             1   \n",
       "1            0          0               0            0             1   \n",
       "\n",
       "   Frequ_Sales  SolMgrInPurs  DelMgrInPurs  less2perc_BidBudPerc  \\\n",
       "0            0             0             1                     0   \n",
       "1            0             1             0                     0   \n",
       "\n",
       "   more2perc_BidBudPerc  \n",
       "0                     0  \n",
       "1                     0  \n",
       "\n",
       "[2 rows x 48 columns]"
      ]
     },
     "execution_count": 7,
     "metadata": {},
     "output_type": "execute_result"
    }
   ],
   "source": [
    "#pandas data frame Indizierung über Mehtoden .iloc() oder .loc()\n",
    "df.iloc[0:2]"
   ]
  },
  {
   "cell_type": "code",
   "execution_count": null,
   "metadata": {},
   "outputs": [],
   "source": [
    "print(train_labels.head(3))\n",
    "nn_df.head(3)\n"
   ]
  },
  {
   "cell_type": "code",
   "execution_count": 8,
   "metadata": {
    "collapsed": true
   },
   "outputs": [],
   "source": [
    "# Create model, Input layer one dimensional\n",
    "# dense: full meshed feed forward neural net\n",
    "# neural network with 44 input parameter/features consequently neurons in input layer,\n",
    "# 32 neurons in one hidden layer\n",
    "# 2 neurons in out put layer - won / lost\n",
    "# activation function relu: rectified linear unit, softmax: normierte exponentialfunktion\n",
    "\n",
    "model = Sequential ([\n",
    "        Dense(44, input_shape=(44,), activation='relu'),\n",
    "        Dense(32, activation='relu'),\n",
    "        Dense(2, activation='softmax')\n",
    "])"
   ]
  },
  {
   "cell_type": "code",
   "execution_count": null,
   "metadata": {
    "collapsed": true
   },
   "outputs": [],
   "source": [
    "#import graphviz\n",
    "#from graphviz import Graph\n",
    "#help(\"modules\")"
   ]
  },
  {
   "cell_type": "code",
   "execution_count": null,
   "metadata": {
    "collapsed": true
   },
   "outputs": [],
   "source": [
    "from keras.utils import plot_model\n",
    "#plot_model(model, to_file='model.png')\n",
    "\n"
   ]
  },
  {
   "cell_type": "code",
   "execution_count": 9,
   "metadata": {
    "collapsed": true
   },
   "outputs": [],
   "source": [
    "# Compile model, optimizer = Adam\n",
    "# Adam optimization algorithm is an extension to stochastic gradient descent \n",
    "# und als k-tes absolutes Moment von X wird der Erwartungswert der k-ten Potenz des Absolutbetrages |X| bezeichnet\n",
    "\n",
    "# learning rate most important parameter - restricts size of 'Step'\n",
    "\n",
    "# definition loss Funktion - here suitable for categorical output 'sparse_categorical_crossentropy'\n",
    "\n",
    "# metrics: evaluation of the model               \n",
    "\n",
    "model.compile(Adam(lr=.0001), loss='sparse_categorical_crossentropy', metrics=['accuracy'])"
   ]
  },
  {
   "cell_type": "code",
   "execution_count": 10,
   "metadata": {},
   "outputs": [
    {
     "name": "stdout",
     "output_type": "stream",
     "text": [
      "Epoch 1/20\n",
      " - 1s - loss: 0.6102 - acc: 0.6703\n",
      "Epoch 2/20\n",
      " - 0s - loss: 0.5458 - acc: 0.7236\n",
      "Epoch 3/20\n",
      " - 0s - loss: 0.5297 - acc: 0.7359\n",
      "Epoch 4/20\n",
      " - 0s - loss: 0.5155 - acc: 0.7518\n",
      "Epoch 5/20\n",
      " - 0s - loss: 0.5071 - acc: 0.7588\n",
      "Epoch 6/20\n",
      " - 0s - loss: 0.5003 - acc: 0.7665\n",
      "Epoch 7/20\n",
      " - 0s - loss: 0.4908 - acc: 0.7745\n",
      "Epoch 8/20\n",
      " - 0s - loss: 0.4839 - acc: 0.7764\n",
      "Epoch 9/20\n",
      " - 0s - loss: 0.4787 - acc: 0.7861\n",
      "Epoch 10/20\n",
      " - 0s - loss: 0.4724 - acc: 0.7828\n",
      "Epoch 11/20\n",
      " - 0s - loss: 0.4687 - acc: 0.7891\n",
      "Epoch 12/20\n",
      " - 0s - loss: 0.4635 - acc: 0.7921\n",
      "Epoch 13/20\n",
      " - 0s - loss: 0.4609 - acc: 0.7957\n",
      "Epoch 14/20\n",
      " - 0s - loss: 0.4577 - acc: 0.8007\n",
      "Epoch 15/20\n",
      " - 0s - loss: 0.4543 - acc: 0.7977\n",
      "Epoch 16/20\n",
      " - 0s - loss: 0.4522 - acc: 0.8037\n",
      "Epoch 17/20\n",
      " - 0s - loss: 0.4491 - acc: 0.8057\n",
      "Epoch 18/20\n",
      " - 0s - loss: 0.4472 - acc: 0.8077\n",
      "Epoch 19/20\n",
      " - 0s - loss: 0.4438 - acc: 0.8117\n",
      "Epoch 20/20\n",
      " - 0s - loss: 0.4440 - acc: 0.8114\n"
     ]
    },
    {
     "data": {
      "text/plain": [
       "<keras.callbacks.History at 0xf476898>"
      ]
     },
     "execution_count": 10,
     "metadata": {},
     "output_type": "execute_result"
    }
   ],
   "source": [
    "# Fit the model, batch_size how many data set to the model at once, epochs # of individual passes of the data through the model  \n",
    "# verbose 2 = one line per epoch.\n",
    "# shuffle data after each epoch\n",
    "# 20 epochs (sample size/batch size default for nr. of steps per epoch)\n",
    "# batch size for calculating gradient\n",
    "\n",
    "model.fit(nn_df, train_labels, batch_size=10, epochs=20, shuffle=True, verbose=2)"
   ]
  },
  {
   "cell_type": "code",
   "execution_count": null,
   "metadata": {
    "collapsed": true
   },
   "outputs": [],
   "source": [
    "# homework: training/test data plus prediction"
   ]
  },
  {
   "cell_type": "code",
   "execution_count": null,
   "metadata": {
    "collapsed": true
   },
   "outputs": [],
   "source": []
  }
 ],
 "metadata": {
  "kernelspec": {
   "display_name": "Python 3",
   "language": "python",
   "name": "python3"
  },
  "language_info": {
   "codemirror_mode": {
    "name": "ipython",
    "version": 3
   },
   "file_extension": ".py",
   "mimetype": "text/x-python",
   "name": "python",
   "nbconvert_exporter": "python",
   "pygments_lexer": "ipython3",
   "version": "3.6.6"
  }
 },
 "nbformat": 4,
 "nbformat_minor": 2
}
